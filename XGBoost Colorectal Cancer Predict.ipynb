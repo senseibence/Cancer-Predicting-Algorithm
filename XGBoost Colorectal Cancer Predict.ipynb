{
 "cells": [
  {
   "cell_type": "code",
   "execution_count": 1,
   "metadata": {},
   "outputs": [],
   "source": [
    "from sklearn.discriminant_analysis import LinearDiscriminantAnalysis\n",
    "from sklearn.linear_model import LogisticRegression\n",
    "from sklearn.naive_bayes import GaussianNB\n",
    "from sklearn.linear_model import LinearRegression\n",
    "from sklearn.tree import DecisionTreeClassifier \n",
    "from sklearn.tree import DecisionTreeRegressor\n",
    "from sklearn.ensemble import RandomForestClassifier\n",
    "from sklearn.ensemble import RandomForestRegressor\n",
    "from sklearn.neighbors import KNeighborsClassifier\n",
    "from sklearn.neighbors import KNeighborsRegressor\n",
    "from sklearn import metrics\n",
    "from sklearn.preprocessing import StandardScaler\n",
    "from sklearn.preprocessing import MinMaxScaler\n",
    "from sklearn.utils import class_weight\n",
    "from sklearn.model_selection import train_test_split \n",
    "\n",
    "import pandas\n",
    "import numpy\n",
    "import matplotlib as mpl\n",
    "import matplotlib.pyplot as plt\n",
    "import xgboost as xgb\n",
    "\n",
    "import tensorflow as tf\n",
    "from tensorflow import keras\n",
    "from tensorflow import feature_column\n",
    "from tensorflow.python.keras import layers\n",
    "from tensorflow.python.keras.layers import Input, Dense, Activation,Dropout\n",
    "from tensorflow.python.keras.models import Model\n",
    "from keras.utils import plot_model\n",
    "\n",
    "import seaborn as sns\n",
    "import os\n",
    "import tempfile\n",
    "from imblearn.over_sampling import SMOTE\n",
    "\n",
    "scaler = StandardScaler()\n",
    "oversample = SMOTE()\n",
    "\n",
    "import joblib"
   ]
  },
  {
   "cell_type": "code",
   "execution_count": 2,
   "metadata": {},
   "outputs": [],
   "source": [
    "df = pandas.read_csv('../../colo_data_mar22_d032222.csv')"
   ]
  },
  {
   "cell_type": "code",
   "execution_count": 3,
   "metadata": {},
   "outputs": [],
   "source": [
    "'''df = df[[\n",
    "\n",
    "    'age',\n",
    "    'sex',\n",
    "    \n",
    "    'race7',\n",
    "    'educat',\n",
    "    'marital',\n",
    "    'occupat',\n",
    "\n",
    "    'cig_stat',\n",
    "    'cig_years',\n",
    "    'cigpd_f',\n",
    "    'cigar',\n",
    "    'pipe',\n",
    "\n",
    "    'fh_cancer',\n",
    "    'colo_fh',\n",
    "    'colo_fh_cnt',\n",
    "\n",
    "    'bmi_curr',\n",
    "\n",
    "    'asp',\n",
    "    'asppd',\n",
    "    'ibup',\n",
    "    'ibuppd',\n",
    "    \n",
    "    'arthrit_f',\n",
    "    'bronchit_f',\n",
    "    'colon_comorbidity',\n",
    "    'diabetes_f',\n",
    "    'divertic_f',\n",
    "    'emphys_f',\n",
    "    'gallblad_f',\n",
    "    'hearta_f',\n",
    "    'hyperten_f',\n",
    "    'liver_comorbidity',\n",
    "    'osteopor_f',\n",
    "    'polyps_f',\n",
    "    'stroke_f',\n",
    "\n",
    "    'colo_cancer'\n",
    "\n",
    "]]'''\n",
    "\n",
    "\n",
    "# make age and bmi categorical versions\n",
    "df = df[[\n",
    "\n",
    "    'age',\n",
    "    'sex',\n",
    "    'race7',\n",
    "    'colo_cancer'\n",
    "\n",
    "]]"
   ]
  },
  {
   "cell_type": "code",
   "execution_count": 4,
   "metadata": {},
   "outputs": [
    {
     "data": {
      "text/plain": [
       "age            0\n",
       "sex            0\n",
       "race7          0\n",
       "colo_cancer    0\n",
       "dtype: int64"
      ]
     },
     "execution_count": 4,
     "metadata": {},
     "output_type": "execute_result"
    }
   ],
   "source": [
    "# filling null values\n",
    "for column in df:\n",
    "\n",
    "    # raw numeric features\n",
    "    if (column == 'age' or column == 'bmi_curr' or column == 'cig_years'): \n",
    "        df[column] = df[column].fillna(df[column].mean())\n",
    "        \n",
    "    # default siblings to 0 (average is 0.11)\n",
    "    elif (column == 'colo_fh_cnt'): \n",
    "        df[column] = df[column].fillna(0)\n",
    "       \n",
    "    # rest are categorized  \n",
    "    else: df[column] = df[column].fillna(df[column].mode()[0])\n",
    "\n",
    "df.isnull().sum()"
   ]
  },
  {
   "cell_type": "code",
   "execution_count": 5,
   "metadata": {},
   "outputs": [],
   "source": [
    "y = df['colo_cancer']\n",
    "X = df.drop('colo_cancer', axis = 1)"
   ]
  },
  {
   "cell_type": "code",
   "execution_count": 6,
   "metadata": {},
   "outputs": [
    {
     "name": "stdout",
     "output_type": "stream",
     "text": [
      "Examples:\n",
      "    Total: 154887\n",
      "    Positive: 2359 (1.52% of total)\n",
      "\n",
      "Examples:\n",
      "    Total: 305056\n",
      "    Positive: 152528 (50.00% of total)\n",
      "\n"
     ]
    }
   ],
   "source": [
    "neg, pos = numpy.bincount(y)\n",
    "total = neg + pos\n",
    "print('Examples:\\n    Total: {}\\n    Positive: {} ({:.2f}% of total)\\n'.format(\n",
    "    total, pos, 100 * pos / total))\n",
    "\n",
    "X, y = oversample.fit_resample(X, y)\n",
    "\n",
    "neg, pos = numpy.bincount(y)\n",
    "total = neg + pos\n",
    "print('Examples:\\n    Total: {}\\n    Positive: {} ({:.2f}% of total)\\n'.format(\n",
    "    total, pos, 100 * pos / total))"
   ]
  },
  {
   "cell_type": "code",
   "execution_count": 7,
   "metadata": {},
   "outputs": [
    {
     "name": "stdout",
     "output_type": "stream",
     "text": [
      "Training labels shape: (183033,)\n",
      "Validation labels shape: (61011,)\n",
      "Test labels shape: (61012,)\n",
      "Training features shape: (183033, 3)\n",
      "Validation features shape: (61011, 3)\n",
      "Test features shape: (61012, 3)\n"
     ]
    }
   ],
   "source": [
    "train_features, test_features, train_labels, test_labels = train_test_split(X, y, test_size = 0.2, random_state = 42)\n",
    "train_features, val_features, train_labels, val_labels = train_test_split(train_features, train_labels, test_size = 0.25, random_state = 42)\n",
    "\n",
    "train_features = numpy.array(train_features)\n",
    "test_features = numpy.array(test_features)\n",
    "val_features = numpy.array(val_features)\n",
    "\n",
    "train_labels = numpy.array(train_labels)\n",
    "test_labels = numpy.array(test_labels)\n",
    "val_labels = numpy.array(val_labels)\n",
    "\n",
    "#train_features = scaler.fit_transform(train_features)\n",
    "\n",
    "#val_features = scaler.transform(val_features)\n",
    "#test_features = scaler.transform(test_features)\n",
    "\n",
    "print('Training labels shape:', train_labels.shape)\n",
    "print('Validation labels shape:', val_labels.shape)\n",
    "print('Test labels shape:', test_labels.shape)\n",
    "\n",
    "print('Training features shape:', train_features.shape)\n",
    "print('Validation features shape:', val_features.shape)\n",
    "print('Test features shape:', test_features.shape)"
   ]
  },
  {
   "cell_type": "code",
   "execution_count": 8,
   "metadata": {},
   "outputs": [
    {
     "name": "stdout",
     "output_type": "stream",
     "text": [
      "[0]\tvalidation_0-logloss:0.67992\n",
      "[1]\tvalidation_0-logloss:0.67317\n",
      "[2]\tvalidation_0-logloss:0.66926\n",
      "[3]\tvalidation_0-logloss:0.66694\n",
      "[4]\tvalidation_0-logloss:0.66531\n",
      "[5]\tvalidation_0-logloss:0.66420\n",
      "[6]\tvalidation_0-logloss:0.66309\n",
      "[7]\tvalidation_0-logloss:0.66255\n",
      "[8]\tvalidation_0-logloss:0.66175\n",
      "[9]\tvalidation_0-logloss:0.66111\n",
      "[10]\tvalidation_0-logloss:0.66071\n",
      "[11]\tvalidation_0-logloss:0.66020\n",
      "[12]\tvalidation_0-logloss:0.65992\n",
      "[13]\tvalidation_0-logloss:0.65936\n",
      "[14]\tvalidation_0-logloss:0.65908\n",
      "[15]\tvalidation_0-logloss:0.65898\n",
      "[16]\tvalidation_0-logloss:0.65874\n",
      "[17]\tvalidation_0-logloss:0.65845\n",
      "[18]\tvalidation_0-logloss:0.65827\n",
      "[19]\tvalidation_0-logloss:0.65806\n",
      "[20]\tvalidation_0-logloss:0.65785\n",
      "[21]\tvalidation_0-logloss:0.65778\n",
      "[22]\tvalidation_0-logloss:0.65773\n",
      "[23]\tvalidation_0-logloss:0.65766\n",
      "[24]\tvalidation_0-logloss:0.65759\n",
      "[25]\tvalidation_0-logloss:0.65745\n",
      "[26]\tvalidation_0-logloss:0.65740\n",
      "[27]\tvalidation_0-logloss:0.65736\n",
      "[28]\tvalidation_0-logloss:0.65734\n",
      "[29]\tvalidation_0-logloss:0.65733\n",
      "[30]\tvalidation_0-logloss:0.65727\n",
      "[31]\tvalidation_0-logloss:0.65726\n",
      "[32]\tvalidation_0-logloss:0.65726\n",
      "[33]\tvalidation_0-logloss:0.65723\n",
      "[34]\tvalidation_0-logloss:0.65722\n",
      "[35]\tvalidation_0-logloss:0.65720\n",
      "[36]\tvalidation_0-logloss:0.65720\n",
      "[37]\tvalidation_0-logloss:0.65719\n",
      "[38]\tvalidation_0-logloss:0.65719\n",
      "[39]\tvalidation_0-logloss:0.65715\n",
      "[40]\tvalidation_0-logloss:0.65713\n",
      "[41]\tvalidation_0-logloss:0.65711\n",
      "[42]\tvalidation_0-logloss:0.65709\n",
      "[43]\tvalidation_0-logloss:0.65704\n",
      "[44]\tvalidation_0-logloss:0.65702\n",
      "[45]\tvalidation_0-logloss:0.65701\n",
      "[46]\tvalidation_0-logloss:0.65698\n",
      "[47]\tvalidation_0-logloss:0.65684\n",
      "[48]\tvalidation_0-logloss:0.65682\n",
      "[49]\tvalidation_0-logloss:0.65681\n",
      "[50]\tvalidation_0-logloss:0.65680\n",
      "[51]\tvalidation_0-logloss:0.65679\n",
      "[52]\tvalidation_0-logloss:0.65678\n",
      "[53]\tvalidation_0-logloss:0.65677\n",
      "[54]\tvalidation_0-logloss:0.65677\n",
      "[55]\tvalidation_0-logloss:0.65677\n",
      "[56]\tvalidation_0-logloss:0.65676\n",
      "[57]\tvalidation_0-logloss:0.65674\n",
      "[58]\tvalidation_0-logloss:0.65674\n",
      "[59]\tvalidation_0-logloss:0.65674\n",
      "[60]\tvalidation_0-logloss:0.65674\n",
      "[61]\tvalidation_0-logloss:0.65674\n",
      "[62]\tvalidation_0-logloss:0.65672\n",
      "[63]\tvalidation_0-logloss:0.65668\n",
      "[64]\tvalidation_0-logloss:0.65668\n",
      "[65]\tvalidation_0-logloss:0.65663\n",
      "[66]\tvalidation_0-logloss:0.65662\n",
      "[67]\tvalidation_0-logloss:0.65661\n",
      "[68]\tvalidation_0-logloss:0.65660\n",
      "[69]\tvalidation_0-logloss:0.65659\n",
      "[70]\tvalidation_0-logloss:0.65658\n",
      "[71]\tvalidation_0-logloss:0.65657\n",
      "[72]\tvalidation_0-logloss:0.65656\n",
      "[73]\tvalidation_0-logloss:0.65656\n",
      "[74]\tvalidation_0-logloss:0.65656\n",
      "[75]\tvalidation_0-logloss:0.65651\n",
      "[76]\tvalidation_0-logloss:0.65651\n",
      "[77]\tvalidation_0-logloss:0.65650\n",
      "[78]\tvalidation_0-logloss:0.65649\n",
      "[79]\tvalidation_0-logloss:0.65649\n",
      "[80]\tvalidation_0-logloss:0.65648\n",
      "[81]\tvalidation_0-logloss:0.65647\n",
      "[82]\tvalidation_0-logloss:0.65647\n",
      "[83]\tvalidation_0-logloss:0.65646\n",
      "[84]\tvalidation_0-logloss:0.65645\n",
      "[85]\tvalidation_0-logloss:0.65645\n",
      "[86]\tvalidation_0-logloss:0.65645\n",
      "[87]\tvalidation_0-logloss:0.65645\n",
      "[88]\tvalidation_0-logloss:0.65644\n",
      "[89]\tvalidation_0-logloss:0.65644\n",
      "[90]\tvalidation_0-logloss:0.65643\n",
      "[91]\tvalidation_0-logloss:0.65643\n",
      "[92]\tvalidation_0-logloss:0.65642\n",
      "[93]\tvalidation_0-logloss:0.65641\n",
      "[94]\tvalidation_0-logloss:0.65641\n",
      "[95]\tvalidation_0-logloss:0.65641\n",
      "[96]\tvalidation_0-logloss:0.65641\n",
      "[97]\tvalidation_0-logloss:0.65640\n",
      "[98]\tvalidation_0-logloss:0.65640\n",
      "[99]\tvalidation_0-logloss:0.65640\n"
     ]
    }
   ],
   "source": [
    "XGB_decisionTree = xgb.XGBClassifier()\n",
    "XGB_decisionTree = XGB_decisionTree.fit(X=train_features, y=train_labels, eval_set=[(val_features, val_labels)])"
   ]
  },
  {
   "cell_type": "code",
   "execution_count": 9,
   "metadata": {},
   "outputs": [
    {
     "name": "stdout",
     "output_type": "stream",
     "text": [
      "Accuracy: 0.5958008260670032\n",
      "\n",
      "              precision    recall  f1-score   support\n",
      "\n",
      "           0       0.62      0.51      0.56     30490\n",
      "           1       0.58      0.69      0.63     30522\n",
      "\n",
      "    accuracy                           0.60     61012\n",
      "   macro avg       0.60      0.60      0.59     61012\n",
      "weighted avg       0.60      0.60      0.59     61012\n",
      "\n",
      "Metrics for positive class (most important)\n",
      "Precision: 0.5813282269031166\n",
      "Recall: 0.6862918550553699\n",
      "F1_score: 0.6294643527909248\n",
      "\n",
      "Metrics for negative class\n",
      "Precision: 0.6166780095280036\n",
      "Specificity: 0.5052148245326337\n",
      "F1_score: 0.5554093277326074\n",
      "\n",
      "AUC-ROC: 0.5957533397940018\n",
      "PRC: 0.5558971676294429\n"
     ]
    }
   ],
   "source": [
    "prediction = XGB_decisionTree.predict(test_features)\n",
    "\n",
    "print(\"Accuracy:\",XGB_decisionTree.score(test_features, test_labels))\n",
    "print()\n",
    "print(metrics.classification_report(test_labels, prediction))\n",
    "\n",
    "# metrics for positive class\n",
    "Precision_pos = metrics.precision_score(test_labels, prediction, pos_label=1)\n",
    "Recall = metrics.recall_score(test_labels, prediction, pos_label=1)\n",
    "F1_score_pos = metrics.f1_score(test_labels, prediction, pos_label=1)\n",
    "\n",
    "#metrics for negative class\n",
    "Precision_neg = metrics.precision_score(test_labels, prediction, pos_label=0)\n",
    "Specificity = metrics.recall_score(test_labels, prediction, pos_label=0)\n",
    "F1_score_neg = metrics.f1_score(test_labels, prediction, pos_label=0)\n",
    "\n",
    "# recall and specificity are opposites \n",
    "\n",
    "auc = metrics.roc_auc_score(test_labels, prediction)\n",
    "prc = metrics.average_precision_score(test_labels, prediction)\n",
    "\n",
    "#metrics:\n",
    "print(\n",
    "    \"Metrics for positive class (most important)\\n\"+\n",
    "    \"Precision: \"+str(Precision_pos)+\n",
    "    \"\\nRecall: \"+str(Recall)+\n",
    "    \"\\nF1_score: \"+str(F1_score_pos)\n",
    ")\n",
    "\n",
    "print()\n",
    "\n",
    "print(\n",
    "    \"Metrics for negative class\\n\"+\n",
    "    \"Precision: \"+str(Precision_neg)+\n",
    "    \"\\nSpecificity: \"+str(Specificity)+\n",
    "    \"\\nF1_score: \"+str(F1_score_neg)\n",
    ")\n",
    "\n",
    "print()\n",
    "\n",
    "print(\n",
    "    \"AUC-ROC: \"+str(auc)+\n",
    "    \"\\nPRC: \"+str(prc)\n",
    ")"
   ]
  },
  {
   "cell_type": "code",
   "execution_count": 10,
   "metadata": {},
   "outputs": [],
   "source": [
    "def plot_cm(labels, predictions, p=0.5):\n",
    "  cm = metrics.confusion_matrix(labels, predictions > p)\n",
    "  plt.figure(figsize=(5,5))\n",
    "  sns.heatmap(cm, annot=True, fmt=\"d\")\n",
    "  plt.title('Confusion matrix @{:.2f}'.format(p))\n",
    "  plt.ylabel('Actual label')\n",
    "  plt.xlabel('Predicted label')\n",
    "\n",
    "  print('(Good) No Cancer Detected (True Negatives):', cm[0][0])\n",
    "  print('(Okay) No Cancer Thought to Have Cancer (False Positives):', cm[0][1])\n",
    "  print('(Bad) Cancer Thought to Have No Cancer (False Negatives):', cm[1][0])\n",
    "  print('(Good) Cancer Detected (True Positives):', cm[1][1])\n",
    "  print('Total Cancer Cases:', numpy.sum(cm[1]))"
   ]
  },
  {
   "cell_type": "code",
   "execution_count": 11,
   "metadata": {},
   "outputs": [
    {
     "name": "stdout",
     "output_type": "stream",
     "text": [
      "(Good) No Cancer Detected (True Negatives): 15404\n",
      "(Okay) No Cancer Thought to Have Cancer (False Positives): 15086\n",
      "(Bad) Cancer Thought to Have No Cancer (False Negatives): 9575\n",
      "(Good) Cancer Detected (True Positives): 20947\n",
      "Total Cancer Cases: 30522\n"
     ]
    },
    {
     "data": {
      "image/png": "[encoded data removed]",
      "text/plain": [
       "<Figure size 500x500 with 2 Axes>"
      ]
     },
     "metadata": {},
     "output_type": "display_data"
    },
    {
     "data": {
      "image/png": "[encoded data removed]",
      "text/plain": [
       "<Figure size 640x480 with 1 Axes>"
      ]
     },
     "metadata": {},
     "output_type": "display_data"
    },
    {
     "data": {
      "image/png": "[encoded data removed]",
      "text/plain": [
       "<Figure size 640x480 with 1 Axes>"
      ]
     },
     "metadata": {},
     "output_type": "display_data"
    }
   ],
   "source": [
    "plot_cm(test_labels, prediction)\n",
    "\n",
    "metrics.RocCurveDisplay.from_predictions(test_labels, prediction)\n",
    "plt.show()\n",
    "\n",
    "metrics.PrecisionRecallDisplay.from_predictions(test_labels, prediction)\n",
    "plt.show()"
   ]
  },
  {
   "cell_type": "code",
   "execution_count": 12,
   "metadata": {},
   "outputs": [
    {
     "data": {
      "text/plain": [
       "['XGBoost_DT.pkl']"
      ]
     },
     "execution_count": 12,
     "metadata": {},
     "output_type": "execute_result"
    }
   ],
   "source": [
    "joblib.dump(XGB_decisionTree, 'XGBoost_DT.pkl')"
   ]
  },
  {
   "cell_type": "code",
   "execution_count": 16,
   "metadata": {},
   "outputs": [
    {
     "data": {
      "text/plain": [
       "array([1])"
      ]
     },
     "execution_count": 16,
     "metadata": {},
     "output_type": "execute_result"
    }
   ],
   "source": [
    "XGB_decisionTree.predict([[60,1,1]])"
   ]
  }
 ],
 "metadata": {
  "kernelspec": {
   "display_name": "Python 3.10.1 64-bit",
   "language": "python",
   "name": "python3"
  },
  "language_info": {
   "codemirror_mode": {
    "name": "ipython",
    "version": 3
   },
   "file_extension": ".py",
   "mimetype": "text/x-python",
   "name": "python",
   "nbconvert_exporter": "python",
   "pygments_lexer": "ipython3",
   "version": "3.10.1 (tags/v3.10.1:2cd268a, Dec  6 2021, 19:10:37) [MSC v.1929 64 bit (AMD64)]"
  },
  "orig_nbformat": 4,
  "vscode": {
   "interpreter": {
    "hash": "369f2c481f4da34e4445cda3fffd2e751bd1c4d706f27375911949ba6bb62e1c"
   }
  }
 },
 "nbformat": 4,
 "nbformat_minor": 2
}
